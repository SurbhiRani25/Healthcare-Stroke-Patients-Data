{
 "cells": [
  {
   "cell_type": "markdown",
   "metadata": {},
   "source": [
    "## Prediction Stroke Patients"
   ]
  },
  {
   "cell_type": "markdown",
   "metadata": {},
   "source": [
    "### Import Libraries"
   ]
  },
  {
   "cell_type": "code",
   "execution_count": 118,
   "metadata": {},
   "outputs": [],
   "source": [
    "import pandas as pd\n",
    "import numpy as np\n",
    "from matplotlib import pyplot as plt\n",
    "from sklearn.preprocessing import Imputer\n",
    "from sklearn.preprocessing import LabelEncoder\n",
    "from sklearn.model_selection import train_test_split\n",
    "from imblearn.over_sampling import RandomOverSampler,SMOTE, ADASYN\n",
    "from sklearn.tree import DecisionTreeClassifier\n",
    "from sklearn.linear_model import LogisticRegression\n",
    "from sklearn.metrics import roc_curve\n",
    "from sklearn.ensemble import RandomForestClassifier\n",
    "from sklearn.metrics import classification_report,accuracy_score,confusion_matrix,auc,roc_auc_score,precision_score,recall_score"
   ]
  },
  {
   "cell_type": "markdown",
   "metadata": {},
   "source": [
    "### Import Files. Train Dataset and Test Dataset. Target Variable is 'Stroke'"
   ]
  },
  {
   "cell_type": "code",
   "execution_count": 119,
   "metadata": {},
   "outputs": [],
   "source": [
    "train_data = pd.read_csv('train_2v.csv')\n",
    "test_data = pd.read_csv('test_2v.csv')"
   ]
  },
  {
   "cell_type": "code",
   "execution_count": 120,
   "metadata": {},
   "outputs": [
    {
     "data": {
      "text/plain": [
       "(43400, 12)"
      ]
     },
     "execution_count": 120,
     "metadata": {},
     "output_type": "execute_result"
    }
   ],
   "source": [
    "train_data.shape"
   ]
  },
  {
   "cell_type": "code",
   "execution_count": 121,
   "metadata": {},
   "outputs": [
    {
     "data": {
      "text/html": [
       "<div>\n",
       "<style scoped>\n",
       "    .dataframe tbody tr th:only-of-type {\n",
       "        vertical-align: middle;\n",
       "    }\n",
       "\n",
       "    .dataframe tbody tr th {\n",
       "        vertical-align: top;\n",
       "    }\n",
       "\n",
       "    .dataframe thead th {\n",
       "        text-align: right;\n",
       "    }\n",
       "</style>\n",
       "<table border=\"1\" class=\"dataframe\">\n",
       "  <thead>\n",
       "    <tr style=\"text-align: right;\">\n",
       "      <th></th>\n",
       "      <th>id</th>\n",
       "      <th>gender</th>\n",
       "      <th>age</th>\n",
       "      <th>hypertension</th>\n",
       "      <th>heart_disease</th>\n",
       "      <th>ever_married</th>\n",
       "      <th>work_type</th>\n",
       "      <th>Residence_type</th>\n",
       "      <th>avg_glucose_level</th>\n",
       "      <th>bmi</th>\n",
       "      <th>smoking_status</th>\n",
       "    </tr>\n",
       "  </thead>\n",
       "  <tbody>\n",
       "    <tr>\n",
       "      <th>0</th>\n",
       "      <td>36306</td>\n",
       "      <td>Male</td>\n",
       "      <td>80.0</td>\n",
       "      <td>0</td>\n",
       "      <td>0</td>\n",
       "      <td>Yes</td>\n",
       "      <td>Private</td>\n",
       "      <td>Urban</td>\n",
       "      <td>83.84</td>\n",
       "      <td>21.1</td>\n",
       "      <td>formerly smoked</td>\n",
       "    </tr>\n",
       "    <tr>\n",
       "      <th>1</th>\n",
       "      <td>61829</td>\n",
       "      <td>Female</td>\n",
       "      <td>74.0</td>\n",
       "      <td>0</td>\n",
       "      <td>1</td>\n",
       "      <td>Yes</td>\n",
       "      <td>Self-employed</td>\n",
       "      <td>Rural</td>\n",
       "      <td>179.50</td>\n",
       "      <td>26.0</td>\n",
       "      <td>formerly smoked</td>\n",
       "    </tr>\n",
       "    <tr>\n",
       "      <th>2</th>\n",
       "      <td>14152</td>\n",
       "      <td>Female</td>\n",
       "      <td>14.0</td>\n",
       "      <td>0</td>\n",
       "      <td>0</td>\n",
       "      <td>No</td>\n",
       "      <td>children</td>\n",
       "      <td>Rural</td>\n",
       "      <td>95.16</td>\n",
       "      <td>21.2</td>\n",
       "      <td>NaN</td>\n",
       "    </tr>\n",
       "    <tr>\n",
       "      <th>3</th>\n",
       "      <td>12997</td>\n",
       "      <td>Male</td>\n",
       "      <td>28.0</td>\n",
       "      <td>0</td>\n",
       "      <td>0</td>\n",
       "      <td>No</td>\n",
       "      <td>Private</td>\n",
       "      <td>Urban</td>\n",
       "      <td>94.76</td>\n",
       "      <td>23.4</td>\n",
       "      <td>NaN</td>\n",
       "    </tr>\n",
       "    <tr>\n",
       "      <th>4</th>\n",
       "      <td>40801</td>\n",
       "      <td>Female</td>\n",
       "      <td>63.0</td>\n",
       "      <td>0</td>\n",
       "      <td>0</td>\n",
       "      <td>Yes</td>\n",
       "      <td>Govt_job</td>\n",
       "      <td>Rural</td>\n",
       "      <td>83.57</td>\n",
       "      <td>27.6</td>\n",
       "      <td>never smoked</td>\n",
       "    </tr>\n",
       "  </tbody>\n",
       "</table>\n",
       "</div>"
      ],
      "text/plain": [
       "      id  gender   age  hypertension  heart_disease ever_married  \\\n",
       "0  36306    Male  80.0             0              0          Yes   \n",
       "1  61829  Female  74.0             0              1          Yes   \n",
       "2  14152  Female  14.0             0              0           No   \n",
       "3  12997    Male  28.0             0              0           No   \n",
       "4  40801  Female  63.0             0              0          Yes   \n",
       "\n",
       "       work_type Residence_type  avg_glucose_level   bmi   smoking_status  \n",
       "0        Private          Urban              83.84  21.1  formerly smoked  \n",
       "1  Self-employed          Rural             179.50  26.0  formerly smoked  \n",
       "2       children          Rural              95.16  21.2              NaN  \n",
       "3        Private          Urban              94.76  23.4              NaN  \n",
       "4       Govt_job          Rural              83.57  27.6     never smoked  "
      ]
     },
     "execution_count": 121,
     "metadata": {},
     "output_type": "execute_result"
    }
   ],
   "source": [
    "test_data.head()"
   ]
  },
  {
   "cell_type": "markdown",
   "metadata": {},
   "source": [
    "### Datasets Shape"
   ]
  },
  {
   "cell_type": "code",
   "execution_count": 122,
   "metadata": {},
   "outputs": [
    {
     "name": "stdout",
     "output_type": "stream",
     "text": [
      "Train Data Shape: (43400, 12)\n",
      "Test Data Shape: (18601, 11)\n"
     ]
    }
   ],
   "source": [
    "print ('Train Data Shape: {}'.format(train_data.shape))\n",
    "\n",
    "print ('Test Data Shape: {}'.format(test_data.shape))"
   ]
  },
  {
   "cell_type": "markdown",
   "metadata": {},
   "source": [
    "### Description of Train Data "
   ]
  },
  {
   "cell_type": "code",
   "execution_count": 123,
   "metadata": {},
   "outputs": [
    {
     "data": {
      "text/html": [
       "<div>\n",
       "<style scoped>\n",
       "    .dataframe tbody tr th:only-of-type {\n",
       "        vertical-align: middle;\n",
       "    }\n",
       "\n",
       "    .dataframe tbody tr th {\n",
       "        vertical-align: top;\n",
       "    }\n",
       "\n",
       "    .dataframe thead th {\n",
       "        text-align: right;\n",
       "    }\n",
       "</style>\n",
       "<table border=\"1\" class=\"dataframe\">\n",
       "  <thead>\n",
       "    <tr style=\"text-align: right;\">\n",
       "      <th></th>\n",
       "      <th>id</th>\n",
       "      <th>age</th>\n",
       "      <th>hypertension</th>\n",
       "      <th>heart_disease</th>\n",
       "      <th>avg_glucose_level</th>\n",
       "      <th>bmi</th>\n",
       "      <th>stroke</th>\n",
       "    </tr>\n",
       "  </thead>\n",
       "  <tbody>\n",
       "    <tr>\n",
       "      <th>count</th>\n",
       "      <td>43400.000000</td>\n",
       "      <td>43400.000000</td>\n",
       "      <td>43400.000000</td>\n",
       "      <td>43400.000000</td>\n",
       "      <td>43400.000000</td>\n",
       "      <td>41938.000000</td>\n",
       "      <td>43400.000000</td>\n",
       "    </tr>\n",
       "    <tr>\n",
       "      <th>mean</th>\n",
       "      <td>36326.142350</td>\n",
       "      <td>42.217894</td>\n",
       "      <td>0.093571</td>\n",
       "      <td>0.047512</td>\n",
       "      <td>104.482750</td>\n",
       "      <td>28.605038</td>\n",
       "      <td>0.018041</td>\n",
       "    </tr>\n",
       "    <tr>\n",
       "      <th>std</th>\n",
       "      <td>21072.134879</td>\n",
       "      <td>22.519649</td>\n",
       "      <td>0.291235</td>\n",
       "      <td>0.212733</td>\n",
       "      <td>43.111751</td>\n",
       "      <td>7.770020</td>\n",
       "      <td>0.133103</td>\n",
       "    </tr>\n",
       "    <tr>\n",
       "      <th>min</th>\n",
       "      <td>1.000000</td>\n",
       "      <td>0.080000</td>\n",
       "      <td>0.000000</td>\n",
       "      <td>0.000000</td>\n",
       "      <td>55.000000</td>\n",
       "      <td>10.100000</td>\n",
       "      <td>0.000000</td>\n",
       "    </tr>\n",
       "    <tr>\n",
       "      <th>25%</th>\n",
       "      <td>18038.500000</td>\n",
       "      <td>24.000000</td>\n",
       "      <td>0.000000</td>\n",
       "      <td>0.000000</td>\n",
       "      <td>77.540000</td>\n",
       "      <td>23.200000</td>\n",
       "      <td>0.000000</td>\n",
       "    </tr>\n",
       "    <tr>\n",
       "      <th>50%</th>\n",
       "      <td>36351.500000</td>\n",
       "      <td>44.000000</td>\n",
       "      <td>0.000000</td>\n",
       "      <td>0.000000</td>\n",
       "      <td>91.580000</td>\n",
       "      <td>27.700000</td>\n",
       "      <td>0.000000</td>\n",
       "    </tr>\n",
       "    <tr>\n",
       "      <th>75%</th>\n",
       "      <td>54514.250000</td>\n",
       "      <td>60.000000</td>\n",
       "      <td>0.000000</td>\n",
       "      <td>0.000000</td>\n",
       "      <td>112.070000</td>\n",
       "      <td>32.900000</td>\n",
       "      <td>0.000000</td>\n",
       "    </tr>\n",
       "    <tr>\n",
       "      <th>max</th>\n",
       "      <td>72943.000000</td>\n",
       "      <td>82.000000</td>\n",
       "      <td>1.000000</td>\n",
       "      <td>1.000000</td>\n",
       "      <td>291.050000</td>\n",
       "      <td>97.600000</td>\n",
       "      <td>1.000000</td>\n",
       "    </tr>\n",
       "  </tbody>\n",
       "</table>\n",
       "</div>"
      ],
      "text/plain": [
       "                 id           age  hypertension  heart_disease  \\\n",
       "count  43400.000000  43400.000000  43400.000000   43400.000000   \n",
       "mean   36326.142350     42.217894      0.093571       0.047512   \n",
       "std    21072.134879     22.519649      0.291235       0.212733   \n",
       "min        1.000000      0.080000      0.000000       0.000000   \n",
       "25%    18038.500000     24.000000      0.000000       0.000000   \n",
       "50%    36351.500000     44.000000      0.000000       0.000000   \n",
       "75%    54514.250000     60.000000      0.000000       0.000000   \n",
       "max    72943.000000     82.000000      1.000000       1.000000   \n",
       "\n",
       "       avg_glucose_level           bmi        stroke  \n",
       "count       43400.000000  41938.000000  43400.000000  \n",
       "mean          104.482750     28.605038      0.018041  \n",
       "std            43.111751      7.770020      0.133103  \n",
       "min            55.000000     10.100000      0.000000  \n",
       "25%            77.540000     23.200000      0.000000  \n",
       "50%            91.580000     27.700000      0.000000  \n",
       "75%           112.070000     32.900000      0.000000  \n",
       "max           291.050000     97.600000      1.000000  "
      ]
     },
     "execution_count": 123,
     "metadata": {},
     "output_type": "execute_result"
    }
   ],
   "source": [
    "train_data.describe()"
   ]
  },
  {
   "cell_type": "markdown",
   "metadata": {},
   "source": [
    "## Data Preprocessing"
   ]
  },
  {
   "cell_type": "markdown",
   "metadata": {},
   "source": [
    "### Data Cleaning"
   ]
  },
  {
   "cell_type": "code",
   "execution_count": 124,
   "metadata": {},
   "outputs": [
    {
     "data": {
      "text/plain": [
       "id                   0.000000\n",
       "gender               0.000000\n",
       "age                  0.000000\n",
       "hypertension         0.000000\n",
       "heart_disease        0.000000\n",
       "ever_married         0.000000\n",
       "work_type            0.000000\n",
       "Residence_type       0.000000\n",
       "avg_glucose_level    0.000000\n",
       "bmi                  0.033687\n",
       "smoking_status       0.306267\n",
       "stroke               0.000000\n",
       "dtype: float64"
      ]
     },
     "execution_count": 124,
     "metadata": {},
     "output_type": "execute_result"
    }
   ],
   "source": [
    "train_data.isnull().sum()/len(train_data)"
   ]
  },
  {
   "cell_type": "code",
   "execution_count": 125,
   "metadata": {},
   "outputs": [
    {
     "data": {
      "text/plain": [
       "id                   0.000000\n",
       "gender               0.000000\n",
       "age                  0.000000\n",
       "hypertension         0.000000\n",
       "heart_disease        0.000000\n",
       "ever_married         0.000000\n",
       "work_type            0.000000\n",
       "Residence_type       0.000000\n",
       "avg_glucose_level    0.000000\n",
       "bmi                  0.031772\n",
       "smoking_status       0.309177\n",
       "dtype: float64"
      ]
     },
     "execution_count": 125,
     "metadata": {},
     "output_type": "execute_result"
    }
   ],
   "source": [
    "test_data.isnull().sum()/len(test_data)"
   ]
  },
  {
   "cell_type": "code",
   "execution_count": 126,
   "metadata": {},
   "outputs": [
    {
     "name": "stderr",
     "output_type": "stream",
     "text": [
      "/Users/sdidwani/anaconda3/lib/python3.6/site-packages/ipykernel_launcher.py:1: FutureWarning: Sorting because non-concatenation axis is not aligned. A future version\n",
      "of pandas will change to not sort by default.\n",
      "\n",
      "To accept the future behavior, pass 'sort=False'.\n",
      "\n",
      "To retain the current behavior and silence the warning, pass 'sort=True'.\n",
      "\n",
      "  \"\"\"Entry point for launching an IPython kernel.\n"
     ]
    }
   ],
   "source": [
    "joined_data = pd.concat([train_data,test_data])"
   ]
  },
  {
   "cell_type": "code",
   "execution_count": 127,
   "metadata": {},
   "outputs": [
    {
     "data": {
      "text/plain": [
       "(62001, 12)"
      ]
     },
     "execution_count": 127,
     "metadata": {},
     "output_type": "execute_result"
    }
   ],
   "source": [
    "joined_data.shape"
   ]
  },
  {
   "cell_type": "code",
   "execution_count": 128,
   "metadata": {},
   "outputs": [
    {
     "data": {
      "text/plain": [
       "Residence_type        0.000000\n",
       "age                   0.000000\n",
       "avg_glucose_level     0.000000\n",
       "bmi                   3.311237\n",
       "ever_married          0.000000\n",
       "gender                0.000000\n",
       "heart_disease         0.000000\n",
       "hypertension          0.000000\n",
       "id                    0.000000\n",
       "smoking_status       30.714021\n",
       "stroke               30.001129\n",
       "work_type             0.000000\n",
       "dtype: float64"
      ]
     },
     "execution_count": 128,
     "metadata": {},
     "output_type": "execute_result"
    }
   ],
   "source": [
    "joined_data.isnull().sum()/len(joined_data)*100"
   ]
  },
  {
   "cell_type": "markdown",
   "metadata": {},
   "source": [
    "### Joined Data has bmi 3.33% data is missing and smoking_status is 30.7% missing"
   ]
  },
  {
   "cell_type": "code",
   "execution_count": 129,
   "metadata": {},
   "outputs": [],
   "source": [
    "train_data[\"bmi\"]=train_data[\"bmi\"].fillna(train_data[\"bmi\"].mean())"
   ]
  },
  {
   "cell_type": "code",
   "execution_count": 130,
   "metadata": {},
   "outputs": [
    {
     "data": {
      "text/html": [
       "<div>\n",
       "<style scoped>\n",
       "    .dataframe tbody tr th:only-of-type {\n",
       "        vertical-align: middle;\n",
       "    }\n",
       "\n",
       "    .dataframe tbody tr th {\n",
       "        vertical-align: top;\n",
       "    }\n",
       "\n",
       "    .dataframe thead th {\n",
       "        text-align: right;\n",
       "    }\n",
       "</style>\n",
       "<table border=\"1\" class=\"dataframe\">\n",
       "  <thead>\n",
       "    <tr style=\"text-align: right;\">\n",
       "      <th></th>\n",
       "      <th>id</th>\n",
       "      <th>gender</th>\n",
       "      <th>age</th>\n",
       "      <th>hypertension</th>\n",
       "      <th>heart_disease</th>\n",
       "      <th>ever_married</th>\n",
       "      <th>work_type</th>\n",
       "      <th>Residence_type</th>\n",
       "      <th>avg_glucose_level</th>\n",
       "      <th>bmi</th>\n",
       "      <th>smoking_status</th>\n",
       "      <th>stroke</th>\n",
       "    </tr>\n",
       "  </thead>\n",
       "  <tbody>\n",
       "    <tr>\n",
       "      <th>0</th>\n",
       "      <td>30669</td>\n",
       "      <td>Male</td>\n",
       "      <td>3.0</td>\n",
       "      <td>0</td>\n",
       "      <td>0</td>\n",
       "      <td>No</td>\n",
       "      <td>children</td>\n",
       "      <td>Rural</td>\n",
       "      <td>95.12</td>\n",
       "      <td>18.0</td>\n",
       "      <td>NaN</td>\n",
       "      <td>0</td>\n",
       "    </tr>\n",
       "    <tr>\n",
       "      <th>1</th>\n",
       "      <td>30468</td>\n",
       "      <td>Male</td>\n",
       "      <td>58.0</td>\n",
       "      <td>1</td>\n",
       "      <td>0</td>\n",
       "      <td>Yes</td>\n",
       "      <td>Private</td>\n",
       "      <td>Urban</td>\n",
       "      <td>87.96</td>\n",
       "      <td>39.2</td>\n",
       "      <td>never smoked</td>\n",
       "      <td>0</td>\n",
       "    </tr>\n",
       "    <tr>\n",
       "      <th>2</th>\n",
       "      <td>16523</td>\n",
       "      <td>Female</td>\n",
       "      <td>8.0</td>\n",
       "      <td>0</td>\n",
       "      <td>0</td>\n",
       "      <td>No</td>\n",
       "      <td>Private</td>\n",
       "      <td>Urban</td>\n",
       "      <td>110.89</td>\n",
       "      <td>17.6</td>\n",
       "      <td>NaN</td>\n",
       "      <td>0</td>\n",
       "    </tr>\n",
       "    <tr>\n",
       "      <th>3</th>\n",
       "      <td>56543</td>\n",
       "      <td>Female</td>\n",
       "      <td>70.0</td>\n",
       "      <td>0</td>\n",
       "      <td>0</td>\n",
       "      <td>Yes</td>\n",
       "      <td>Private</td>\n",
       "      <td>Rural</td>\n",
       "      <td>69.04</td>\n",
       "      <td>35.9</td>\n",
       "      <td>formerly smoked</td>\n",
       "      <td>0</td>\n",
       "    </tr>\n",
       "    <tr>\n",
       "      <th>4</th>\n",
       "      <td>46136</td>\n",
       "      <td>Male</td>\n",
       "      <td>14.0</td>\n",
       "      <td>0</td>\n",
       "      <td>0</td>\n",
       "      <td>No</td>\n",
       "      <td>Never_worked</td>\n",
       "      <td>Rural</td>\n",
       "      <td>161.28</td>\n",
       "      <td>19.1</td>\n",
       "      <td>NaN</td>\n",
       "      <td>0</td>\n",
       "    </tr>\n",
       "  </tbody>\n",
       "</table>\n",
       "</div>"
      ],
      "text/plain": [
       "      id  gender   age  hypertension  heart_disease ever_married  \\\n",
       "0  30669    Male   3.0             0              0           No   \n",
       "1  30468    Male  58.0             1              0          Yes   \n",
       "2  16523  Female   8.0             0              0           No   \n",
       "3  56543  Female  70.0             0              0          Yes   \n",
       "4  46136    Male  14.0             0              0           No   \n",
       "\n",
       "      work_type Residence_type  avg_glucose_level   bmi   smoking_status  \\\n",
       "0      children          Rural              95.12  18.0              NaN   \n",
       "1       Private          Urban              87.96  39.2     never smoked   \n",
       "2       Private          Urban             110.89  17.6              NaN   \n",
       "3       Private          Rural              69.04  35.9  formerly smoked   \n",
       "4  Never_worked          Rural             161.28  19.1              NaN   \n",
       "\n",
       "   stroke  \n",
       "0       0  \n",
       "1       0  \n",
       "2       0  \n",
       "3       0  \n",
       "4       0  "
      ]
     },
     "execution_count": 130,
     "metadata": {},
     "output_type": "execute_result"
    }
   ],
   "source": [
    "train_data.head()"
   ]
  },
  {
   "cell_type": "markdown",
   "metadata": {},
   "source": [
    "### Handling Categorical Variables"
   ]
  },
  {
   "cell_type": "code",
   "execution_count": 131,
   "metadata": {},
   "outputs": [],
   "source": [
    "label = LabelEncoder()\n",
    "train_data['gender'] = label.fit_transform(train_data['gender'])\n",
    "train_data['ever_married'] = label.fit_transform(train_data['ever_married'])\n",
    "train_data['work_type']= label.fit_transform(train_data['work_type'])\n",
    "train_data['Residence_type']= label.fit_transform(train_data['Residence_type'])"
   ]
  },
  {
   "cell_type": "code",
   "execution_count": 132,
   "metadata": {},
   "outputs": [],
   "source": [
    "train_data_without_smoke = train_data[train_data['smoking_status'].isnull()]\n",
    "train_data_with_smoke = train_data[train_data['smoking_status'].notnull()]"
   ]
  },
  {
   "cell_type": "code",
   "execution_count": 133,
   "metadata": {},
   "outputs": [
    {
     "name": "stderr",
     "output_type": "stream",
     "text": [
      "/Users/sdidwani/anaconda3/lib/python3.6/site-packages/pandas/core/frame.py:3697: SettingWithCopyWarning: \n",
      "A value is trying to be set on a copy of a slice from a DataFrame\n",
      "\n",
      "See the caveats in the documentation: http://pandas.pydata.org/pandas-docs/stable/indexing.html#indexing-view-versus-copy\n",
      "  errors=errors)\n"
     ]
    }
   ],
   "source": [
    "train_data_without_smoke.drop(columns='smoking_status',axis=1,inplace=True)"
   ]
  },
  {
   "cell_type": "code",
   "execution_count": 134,
   "metadata": {},
   "outputs": [
    {
     "data": {
      "text/html": [
       "<div>\n",
       "<style scoped>\n",
       "    .dataframe tbody tr th:only-of-type {\n",
       "        vertical-align: middle;\n",
       "    }\n",
       "\n",
       "    .dataframe tbody tr th {\n",
       "        vertical-align: top;\n",
       "    }\n",
       "\n",
       "    .dataframe thead th {\n",
       "        text-align: right;\n",
       "    }\n",
       "</style>\n",
       "<table border=\"1\" class=\"dataframe\">\n",
       "  <thead>\n",
       "    <tr style=\"text-align: right;\">\n",
       "      <th></th>\n",
       "      <th>id</th>\n",
       "      <th>gender</th>\n",
       "      <th>age</th>\n",
       "      <th>hypertension</th>\n",
       "      <th>heart_disease</th>\n",
       "      <th>ever_married</th>\n",
       "      <th>work_type</th>\n",
       "      <th>Residence_type</th>\n",
       "      <th>avg_glucose_level</th>\n",
       "      <th>bmi</th>\n",
       "      <th>stroke</th>\n",
       "    </tr>\n",
       "  </thead>\n",
       "  <tbody>\n",
       "    <tr>\n",
       "      <th>0</th>\n",
       "      <td>30669</td>\n",
       "      <td>1</td>\n",
       "      <td>3.0</td>\n",
       "      <td>0</td>\n",
       "      <td>0</td>\n",
       "      <td>0</td>\n",
       "      <td>4</td>\n",
       "      <td>0</td>\n",
       "      <td>95.12</td>\n",
       "      <td>18.0</td>\n",
       "      <td>0</td>\n",
       "    </tr>\n",
       "    <tr>\n",
       "      <th>2</th>\n",
       "      <td>16523</td>\n",
       "      <td>0</td>\n",
       "      <td>8.0</td>\n",
       "      <td>0</td>\n",
       "      <td>0</td>\n",
       "      <td>0</td>\n",
       "      <td>2</td>\n",
       "      <td>1</td>\n",
       "      <td>110.89</td>\n",
       "      <td>17.6</td>\n",
       "      <td>0</td>\n",
       "    </tr>\n",
       "    <tr>\n",
       "      <th>4</th>\n",
       "      <td>46136</td>\n",
       "      <td>1</td>\n",
       "      <td>14.0</td>\n",
       "      <td>0</td>\n",
       "      <td>0</td>\n",
       "      <td>0</td>\n",
       "      <td>1</td>\n",
       "      <td>0</td>\n",
       "      <td>161.28</td>\n",
       "      <td>19.1</td>\n",
       "      <td>0</td>\n",
       "    </tr>\n",
       "    <tr>\n",
       "      <th>5</th>\n",
       "      <td>32257</td>\n",
       "      <td>0</td>\n",
       "      <td>47.0</td>\n",
       "      <td>0</td>\n",
       "      <td>0</td>\n",
       "      <td>1</td>\n",
       "      <td>2</td>\n",
       "      <td>1</td>\n",
       "      <td>210.95</td>\n",
       "      <td>50.1</td>\n",
       "      <td>0</td>\n",
       "    </tr>\n",
       "    <tr>\n",
       "      <th>10</th>\n",
       "      <td>10460</td>\n",
       "      <td>0</td>\n",
       "      <td>79.0</td>\n",
       "      <td>0</td>\n",
       "      <td>0</td>\n",
       "      <td>1</td>\n",
       "      <td>0</td>\n",
       "      <td>1</td>\n",
       "      <td>77.08</td>\n",
       "      <td>35.0</td>\n",
       "      <td>0</td>\n",
       "    </tr>\n",
       "  </tbody>\n",
       "</table>\n",
       "</div>"
      ],
      "text/plain": [
       "       id  gender   age  hypertension  heart_disease  ever_married  work_type  \\\n",
       "0   30669       1   3.0             0              0             0          4   \n",
       "2   16523       0   8.0             0              0             0          2   \n",
       "4   46136       1  14.0             0              0             0          1   \n",
       "5   32257       0  47.0             0              0             1          2   \n",
       "10  10460       0  79.0             0              0             1          0   \n",
       "\n",
       "    Residence_type  avg_glucose_level   bmi  stroke  \n",
       "0                0              95.12  18.0       0  \n",
       "2                1             110.89  17.6       0  \n",
       "4                0             161.28  19.1       0  \n",
       "5                1             210.95  50.1       0  \n",
       "10               1              77.08  35.0       0  "
      ]
     },
     "execution_count": 134,
     "metadata": {},
     "output_type": "execute_result"
    }
   ],
   "source": [
    "train_data_without_smoke.head()"
   ]
  },
  {
   "cell_type": "code",
   "execution_count": 135,
   "metadata": {},
   "outputs": [
    {
     "data": {
      "text/html": [
       "<div>\n",
       "<style scoped>\n",
       "    .dataframe tbody tr th:only-of-type {\n",
       "        vertical-align: middle;\n",
       "    }\n",
       "\n",
       "    .dataframe tbody tr th {\n",
       "        vertical-align: top;\n",
       "    }\n",
       "\n",
       "    .dataframe thead th {\n",
       "        text-align: right;\n",
       "    }\n",
       "</style>\n",
       "<table border=\"1\" class=\"dataframe\">\n",
       "  <thead>\n",
       "    <tr style=\"text-align: right;\">\n",
       "      <th></th>\n",
       "      <th>id</th>\n",
       "      <th>gender</th>\n",
       "      <th>age</th>\n",
       "      <th>hypertension</th>\n",
       "      <th>heart_disease</th>\n",
       "      <th>ever_married</th>\n",
       "      <th>work_type</th>\n",
       "      <th>Residence_type</th>\n",
       "      <th>avg_glucose_level</th>\n",
       "      <th>bmi</th>\n",
       "      <th>smoking_status</th>\n",
       "      <th>stroke</th>\n",
       "    </tr>\n",
       "  </thead>\n",
       "  <tbody>\n",
       "    <tr>\n",
       "      <th>1</th>\n",
       "      <td>30468</td>\n",
       "      <td>1</td>\n",
       "      <td>58.0</td>\n",
       "      <td>1</td>\n",
       "      <td>0</td>\n",
       "      <td>1</td>\n",
       "      <td>2</td>\n",
       "      <td>1</td>\n",
       "      <td>87.96</td>\n",
       "      <td>39.2</td>\n",
       "      <td>never smoked</td>\n",
       "      <td>0</td>\n",
       "    </tr>\n",
       "    <tr>\n",
       "      <th>3</th>\n",
       "      <td>56543</td>\n",
       "      <td>0</td>\n",
       "      <td>70.0</td>\n",
       "      <td>0</td>\n",
       "      <td>0</td>\n",
       "      <td>1</td>\n",
       "      <td>2</td>\n",
       "      <td>0</td>\n",
       "      <td>69.04</td>\n",
       "      <td>35.9</td>\n",
       "      <td>formerly smoked</td>\n",
       "      <td>0</td>\n",
       "    </tr>\n",
       "    <tr>\n",
       "      <th>6</th>\n",
       "      <td>52800</td>\n",
       "      <td>0</td>\n",
       "      <td>52.0</td>\n",
       "      <td>0</td>\n",
       "      <td>0</td>\n",
       "      <td>1</td>\n",
       "      <td>2</td>\n",
       "      <td>1</td>\n",
       "      <td>77.59</td>\n",
       "      <td>17.7</td>\n",
       "      <td>formerly smoked</td>\n",
       "      <td>0</td>\n",
       "    </tr>\n",
       "    <tr>\n",
       "      <th>7</th>\n",
       "      <td>41413</td>\n",
       "      <td>0</td>\n",
       "      <td>75.0</td>\n",
       "      <td>0</td>\n",
       "      <td>1</td>\n",
       "      <td>1</td>\n",
       "      <td>3</td>\n",
       "      <td>0</td>\n",
       "      <td>243.53</td>\n",
       "      <td>27.0</td>\n",
       "      <td>never smoked</td>\n",
       "      <td>0</td>\n",
       "    </tr>\n",
       "    <tr>\n",
       "      <th>8</th>\n",
       "      <td>15266</td>\n",
       "      <td>0</td>\n",
       "      <td>32.0</td>\n",
       "      <td>0</td>\n",
       "      <td>0</td>\n",
       "      <td>1</td>\n",
       "      <td>2</td>\n",
       "      <td>0</td>\n",
       "      <td>77.67</td>\n",
       "      <td>32.3</td>\n",
       "      <td>smokes</td>\n",
       "      <td>0</td>\n",
       "    </tr>\n",
       "  </tbody>\n",
       "</table>\n",
       "</div>"
      ],
      "text/plain": [
       "      id  gender   age  hypertension  heart_disease  ever_married  work_type  \\\n",
       "1  30468       1  58.0             1              0             1          2   \n",
       "3  56543       0  70.0             0              0             1          2   \n",
       "6  52800       0  52.0             0              0             1          2   \n",
       "7  41413       0  75.0             0              1             1          3   \n",
       "8  15266       0  32.0             0              0             1          2   \n",
       "\n",
       "   Residence_type  avg_glucose_level   bmi   smoking_status  stroke  \n",
       "1               1              87.96  39.2     never smoked       0  \n",
       "3               0              69.04  35.9  formerly smoked       0  \n",
       "6               1              77.59  17.7  formerly smoked       0  \n",
       "7               0             243.53  27.0     never smoked       0  \n",
       "8               0              77.67  32.3           smokes       0  "
      ]
     },
     "execution_count": 135,
     "metadata": {},
     "output_type": "execute_result"
    }
   ],
   "source": [
    "train_data_with_smoke.head()"
   ]
  },
  {
   "cell_type": "code",
   "execution_count": 136,
   "metadata": {},
   "outputs": [
    {
     "name": "stderr",
     "output_type": "stream",
     "text": [
      "/Users/sdidwani/anaconda3/lib/python3.6/site-packages/ipykernel_launcher.py:1: SettingWithCopyWarning: \n",
      "A value is trying to be set on a copy of a slice from a DataFrame.\n",
      "Try using .loc[row_indexer,col_indexer] = value instead\n",
      "\n",
      "See the caveats in the documentation: http://pandas.pydata.org/pandas-docs/stable/indexing.html#indexing-view-versus-copy\n",
      "  \"\"\"Entry point for launching an IPython kernel.\n"
     ]
    }
   ],
   "source": [
    "train_data_with_smoke['smoking_status']= label.fit_transform(train_data_with_smoke['smoking_status'])"
   ]
  },
  {
   "cell_type": "code",
   "execution_count": 137,
   "metadata": {},
   "outputs": [
    {
     "data": {
      "text/plain": [
       "(30108, 12)"
      ]
     },
     "execution_count": 137,
     "metadata": {},
     "output_type": "execute_result"
    }
   ],
   "source": [
    "train_data_with_smoke.head()\n",
    "train_data_with_smoke.shape"
   ]
  },
  {
   "cell_type": "code",
   "execution_count": 138,
   "metadata": {},
   "outputs": [
    {
     "data": {
      "text/html": [
       "<div>\n",
       "<style scoped>\n",
       "    .dataframe tbody tr th:only-of-type {\n",
       "        vertical-align: middle;\n",
       "    }\n",
       "\n",
       "    .dataframe tbody tr th {\n",
       "        vertical-align: top;\n",
       "    }\n",
       "\n",
       "    .dataframe thead th {\n",
       "        text-align: right;\n",
       "    }\n",
       "</style>\n",
       "<table border=\"1\" class=\"dataframe\">\n",
       "  <thead>\n",
       "    <tr style=\"text-align: right;\">\n",
       "      <th></th>\n",
       "      <th>id</th>\n",
       "      <th>gender</th>\n",
       "      <th>age</th>\n",
       "      <th>hypertension</th>\n",
       "      <th>heart_disease</th>\n",
       "      <th>ever_married</th>\n",
       "      <th>work_type</th>\n",
       "      <th>Residence_type</th>\n",
       "      <th>avg_glucose_level</th>\n",
       "      <th>bmi</th>\n",
       "      <th>smoking_status</th>\n",
       "      <th>stroke</th>\n",
       "    </tr>\n",
       "  </thead>\n",
       "  <tbody>\n",
       "    <tr>\n",
       "      <th>id</th>\n",
       "      <td>1.000000</td>\n",
       "      <td>0.005445</td>\n",
       "      <td>0.000131</td>\n",
       "      <td>0.002157</td>\n",
       "      <td>0.013075</td>\n",
       "      <td>0.000043</td>\n",
       "      <td>0.008955</td>\n",
       "      <td>-0.000966</td>\n",
       "      <td>0.020976</td>\n",
       "      <td>0.013226</td>\n",
       "      <td>0.004082</td>\n",
       "      <td>0.002238</td>\n",
       "    </tr>\n",
       "    <tr>\n",
       "      <th>gender</th>\n",
       "      <td>0.005445</td>\n",
       "      <td>1.000000</td>\n",
       "      <td>0.040785</td>\n",
       "      <td>0.037431</td>\n",
       "      <td>0.097549</td>\n",
       "      <td>0.024852</td>\n",
       "      <td>0.010247</td>\n",
       "      <td>0.004814</td>\n",
       "      <td>0.053496</td>\n",
       "      <td>0.019278</td>\n",
       "      <td>-0.013613</td>\n",
       "      <td>0.013689</td>\n",
       "    </tr>\n",
       "    <tr>\n",
       "      <th>age</th>\n",
       "      <td>0.000131</td>\n",
       "      <td>0.040785</td>\n",
       "      <td>1.000000</td>\n",
       "      <td>0.259528</td>\n",
       "      <td>0.251819</td>\n",
       "      <td>0.546996</td>\n",
       "      <td>0.018850</td>\n",
       "      <td>0.004044</td>\n",
       "      <td>0.230682</td>\n",
       "      <td>0.101619</td>\n",
       "      <td>-0.147968</td>\n",
       "      <td>0.159838</td>\n",
       "    </tr>\n",
       "    <tr>\n",
       "      <th>hypertension</th>\n",
       "      <td>0.002157</td>\n",
       "      <td>0.037431</td>\n",
       "      <td>0.259528</td>\n",
       "      <td>1.000000</td>\n",
       "      <td>0.114957</td>\n",
       "      <td>0.133258</td>\n",
       "      <td>0.019309</td>\n",
       "      <td>-0.004427</td>\n",
       "      <td>0.154702</td>\n",
       "      <td>0.120730</td>\n",
       "      <td>-0.030094</td>\n",
       "      <td>0.073310</td>\n",
       "    </tr>\n",
       "    <tr>\n",
       "      <th>heart_disease</th>\n",
       "      <td>0.013075</td>\n",
       "      <td>0.097549</td>\n",
       "      <td>0.251819</td>\n",
       "      <td>0.114957</td>\n",
       "      <td>1.000000</td>\n",
       "      <td>0.098229</td>\n",
       "      <td>0.034466</td>\n",
       "      <td>-0.000583</td>\n",
       "      <td>0.139449</td>\n",
       "      <td>0.018562</td>\n",
       "      <td>-0.035660</td>\n",
       "      <td>0.107007</td>\n",
       "    </tr>\n",
       "    <tr>\n",
       "      <th>ever_married</th>\n",
       "      <td>0.000043</td>\n",
       "      <td>0.024852</td>\n",
       "      <td>0.546996</td>\n",
       "      <td>0.133258</td>\n",
       "      <td>0.098229</td>\n",
       "      <td>1.000000</td>\n",
       "      <td>-0.067305</td>\n",
       "      <td>0.004990</td>\n",
       "      <td>0.120161</td>\n",
       "      <td>0.139949</td>\n",
       "      <td>-0.053049</td>\n",
       "      <td>0.051666</td>\n",
       "    </tr>\n",
       "    <tr>\n",
       "      <th>work_type</th>\n",
       "      <td>0.008955</td>\n",
       "      <td>0.010247</td>\n",
       "      <td>0.018850</td>\n",
       "      <td>0.019309</td>\n",
       "      <td>0.034466</td>\n",
       "      <td>-0.067305</td>\n",
       "      <td>1.000000</td>\n",
       "      <td>-0.010796</td>\n",
       "      <td>0.008315</td>\n",
       "      <td>-0.066278</td>\n",
       "      <td>-0.030810</td>\n",
       "      <td>0.025708</td>\n",
       "    </tr>\n",
       "    <tr>\n",
       "      <th>Residence_type</th>\n",
       "      <td>-0.000966</td>\n",
       "      <td>0.004814</td>\n",
       "      <td>0.004044</td>\n",
       "      <td>-0.004427</td>\n",
       "      <td>-0.000583</td>\n",
       "      <td>0.004990</td>\n",
       "      <td>-0.010796</td>\n",
       "      <td>1.000000</td>\n",
       "      <td>-0.001361</td>\n",
       "      <td>-0.002944</td>\n",
       "      <td>0.010095</td>\n",
       "      <td>0.002064</td>\n",
       "    </tr>\n",
       "    <tr>\n",
       "      <th>avg_glucose_level</th>\n",
       "      <td>0.020976</td>\n",
       "      <td>0.053496</td>\n",
       "      <td>0.230682</td>\n",
       "      <td>0.154702</td>\n",
       "      <td>0.139449</td>\n",
       "      <td>0.120161</td>\n",
       "      <td>0.008315</td>\n",
       "      <td>-0.001361</td>\n",
       "      <td>1.000000</td>\n",
       "      <td>0.167699</td>\n",
       "      <td>-0.035164</td>\n",
       "      <td>0.077206</td>\n",
       "    </tr>\n",
       "    <tr>\n",
       "      <th>bmi</th>\n",
       "      <td>0.013226</td>\n",
       "      <td>0.019278</td>\n",
       "      <td>0.101619</td>\n",
       "      <td>0.120730</td>\n",
       "      <td>0.018562</td>\n",
       "      <td>0.139949</td>\n",
       "      <td>-0.066278</td>\n",
       "      <td>-0.002944</td>\n",
       "      <td>0.167699</td>\n",
       "      <td>1.000000</td>\n",
       "      <td>-0.035568</td>\n",
       "      <td>-0.006950</td>\n",
       "    </tr>\n",
       "    <tr>\n",
       "      <th>smoking_status</th>\n",
       "      <td>0.004082</td>\n",
       "      <td>-0.013613</td>\n",
       "      <td>-0.147968</td>\n",
       "      <td>-0.030094</td>\n",
       "      <td>-0.035660</td>\n",
       "      <td>-0.053049</td>\n",
       "      <td>-0.030810</td>\n",
       "      <td>0.010095</td>\n",
       "      <td>-0.035164</td>\n",
       "      <td>-0.035568</td>\n",
       "      <td>1.000000</td>\n",
       "      <td>-0.023068</td>\n",
       "    </tr>\n",
       "    <tr>\n",
       "      <th>stroke</th>\n",
       "      <td>0.002238</td>\n",
       "      <td>0.013689</td>\n",
       "      <td>0.159838</td>\n",
       "      <td>0.073310</td>\n",
       "      <td>0.107007</td>\n",
       "      <td>0.051666</td>\n",
       "      <td>0.025708</td>\n",
       "      <td>0.002064</td>\n",
       "      <td>0.077206</td>\n",
       "      <td>-0.006950</td>\n",
       "      <td>-0.023068</td>\n",
       "      <td>1.000000</td>\n",
       "    </tr>\n",
       "  </tbody>\n",
       "</table>\n",
       "</div>"
      ],
      "text/plain": [
       "                         id    gender       age  hypertension  heart_disease  \\\n",
       "id                 1.000000  0.005445  0.000131      0.002157       0.013075   \n",
       "gender             0.005445  1.000000  0.040785      0.037431       0.097549   \n",
       "age                0.000131  0.040785  1.000000      0.259528       0.251819   \n",
       "hypertension       0.002157  0.037431  0.259528      1.000000       0.114957   \n",
       "heart_disease      0.013075  0.097549  0.251819      0.114957       1.000000   \n",
       "ever_married       0.000043  0.024852  0.546996      0.133258       0.098229   \n",
       "work_type          0.008955  0.010247  0.018850      0.019309       0.034466   \n",
       "Residence_type    -0.000966  0.004814  0.004044     -0.004427      -0.000583   \n",
       "avg_glucose_level  0.020976  0.053496  0.230682      0.154702       0.139449   \n",
       "bmi                0.013226  0.019278  0.101619      0.120730       0.018562   \n",
       "smoking_status     0.004082 -0.013613 -0.147968     -0.030094      -0.035660   \n",
       "stroke             0.002238  0.013689  0.159838      0.073310       0.107007   \n",
       "\n",
       "                   ever_married  work_type  Residence_type  avg_glucose_level  \\\n",
       "id                     0.000043   0.008955       -0.000966           0.020976   \n",
       "gender                 0.024852   0.010247        0.004814           0.053496   \n",
       "age                    0.546996   0.018850        0.004044           0.230682   \n",
       "hypertension           0.133258   0.019309       -0.004427           0.154702   \n",
       "heart_disease          0.098229   0.034466       -0.000583           0.139449   \n",
       "ever_married           1.000000  -0.067305        0.004990           0.120161   \n",
       "work_type             -0.067305   1.000000       -0.010796           0.008315   \n",
       "Residence_type         0.004990  -0.010796        1.000000          -0.001361   \n",
       "avg_glucose_level      0.120161   0.008315       -0.001361           1.000000   \n",
       "bmi                    0.139949  -0.066278       -0.002944           0.167699   \n",
       "smoking_status        -0.053049  -0.030810        0.010095          -0.035164   \n",
       "stroke                 0.051666   0.025708        0.002064           0.077206   \n",
       "\n",
       "                        bmi  smoking_status    stroke  \n",
       "id                 0.013226        0.004082  0.002238  \n",
       "gender             0.019278       -0.013613  0.013689  \n",
       "age                0.101619       -0.147968  0.159838  \n",
       "hypertension       0.120730       -0.030094  0.073310  \n",
       "heart_disease      0.018562       -0.035660  0.107007  \n",
       "ever_married       0.139949       -0.053049  0.051666  \n",
       "work_type         -0.066278       -0.030810  0.025708  \n",
       "Residence_type    -0.002944        0.010095  0.002064  \n",
       "avg_glucose_level  0.167699       -0.035164  0.077206  \n",
       "bmi                1.000000       -0.035568 -0.006950  \n",
       "smoking_status    -0.035568        1.000000 -0.023068  \n",
       "stroke            -0.006950       -0.023068  1.000000  "
      ]
     },
     "execution_count": 138,
     "metadata": {},
     "output_type": "execute_result"
    }
   ],
   "source": [
    "train_data_with_smoke.corr('pearson')"
   ]
  },
  {
   "cell_type": "markdown",
   "metadata": {},
   "source": [
    "### Handling Imbalanced Data\n",
    "#### Now lets look at the number of positive and negative cases we have for stroke data"
   ]
  },
  {
   "cell_type": "code",
   "execution_count": 139,
   "metadata": {},
   "outputs": [
    {
     "data": {
      "text/plain": [
       "0    29470\n",
       "1      638\n",
       "Name: stroke, dtype: int64"
      ]
     },
     "execution_count": 139,
     "metadata": {},
     "output_type": "execute_result"
    }
   ],
   "source": [
    "train_data_with_smoke['stroke'].value_counts()"
   ]
  },
  {
   "cell_type": "code",
   "execution_count": 140,
   "metadata": {},
   "outputs": [
    {
     "data": {
      "text/plain": [
       "0    13147\n",
       "1      145\n",
       "Name: stroke, dtype: int64"
      ]
     },
     "execution_count": 140,
     "metadata": {},
     "output_type": "execute_result"
    }
   ],
   "source": [
    "train_data_without_smoke['stroke'].value_counts()"
   ]
  },
  {
   "cell_type": "markdown",
   "metadata": {},
   "source": [
    "#### In both cases we can see we are dealing with imbalanced data set, if we go ahead with that there is a high possibility that it ML algorithm will predict no stroke for all data. So we need to make the data more balanced\n",
    "\n",
    "#### I am using ROSE method to deal with that and make data more balanced which generates artificial data to make the set more balanced"
   ]
  },
  {
   "cell_type": "code",
   "execution_count": 141,
   "metadata": {},
   "outputs": [],
   "source": [
    "ros = RandomOverSampler(random_state=0)\n",
    "smote = SMOTE()"
   ]
  },
  {
   "cell_type": "code",
   "execution_count": 142,
   "metadata": {},
   "outputs": [],
   "source": [
    "X_resampled, y_resampled = ros.fit_resample(train_data_with_smoke.loc[:,train_data_with_smoke.columns!='stroke'], \n",
    "                                            train_data_with_smoke['stroke'])"
   ]
  },
  {
   "cell_type": "code",
   "execution_count": 143,
   "metadata": {},
   "outputs": [
    {
     "data": {
      "text/plain": [
       "Index(['id', 'gender', 'age', 'hypertension', 'heart_disease', 'ever_married',\n",
       "       'work_type', 'Residence_type', 'avg_glucose_level', 'bmi'],\n",
       "      dtype='object')"
      ]
     },
     "execution_count": 143,
     "metadata": {},
     "output_type": "execute_result"
    }
   ],
   "source": [
    "train_data_without_smoke.loc[:,train_data_without_smoke.columns!='stroke'].columns"
   ]
  },
  {
   "cell_type": "code",
   "execution_count": 144,
   "metadata": {},
   "outputs": [
    {
     "name": "stdout",
     "output_type": "stream",
     "text": [
      "ROS Input Data Shape for Smoke Data: (58940, 11)\n",
      "ROS Output Data Shape for Smoke Data: (58940,)\n"
     ]
    }
   ],
   "source": [
    "print ('ROS Input Data Shape for Smoke Data: {}'.format(X_resampled.shape))\n",
    "print ('ROS Output Data Shape for Smoke Data: {}'.format(y_resampled.shape))"
   ]
  },
  {
   "cell_type": "code",
   "execution_count": 145,
   "metadata": {},
   "outputs": [],
   "source": [
    "X_resampled_1, y_resampled_1 = ros.fit_resample(train_data_without_smoke.loc[:,train_data_without_smoke.columns!='stroke'], \n",
    "                                            train_data_without_smoke['stroke'])"
   ]
  },
  {
   "cell_type": "code",
   "execution_count": 146,
   "metadata": {},
   "outputs": [
    {
     "name": "stdout",
     "output_type": "stream",
     "text": [
      "ROS Input Data Shape for Non Smoke Data: (26294, 10)\n",
      "ROS Output Data Shape for Non Smoke Data: (26294,)\n"
     ]
    }
   ],
   "source": [
    "print ('ROS Input Data Shape for Non Smoke Data: {}'.format(X_resampled_1.shape))\n",
    "print ('ROS Output Data Shape for Non Smoke Data: {}'.format(y_resampled_1.shape))"
   ]
  },
  {
   "cell_type": "markdown",
   "metadata": {},
   "source": [
    "### Train Test Split of the balanced Data"
   ]
  },
  {
   "cell_type": "code",
   "execution_count": 147,
   "metadata": {},
   "outputs": [
    {
     "name": "stdout",
     "output_type": "stream",
     "text": [
      "(47152, 11)\n",
      "(11788, 11)\n"
     ]
    }
   ],
   "source": [
    "X_train,X_test,y_train,y_test = train_test_split(X_resampled,y_resampled,test_size=0.2)\n",
    "print(X_train.shape)\n",
    "print(X_test.shape)"
   ]
  },
  {
   "cell_type": "code",
   "execution_count": 148,
   "metadata": {},
   "outputs": [
    {
     "name": "stdout",
     "output_type": "stream",
     "text": [
      "(21035, 10)\n",
      "(5259, 10)\n"
     ]
    }
   ],
   "source": [
    "X_train_1,X_test_1,y_train_1,y_test_1 = train_test_split(X_resampled_1,y_resampled_1,test_size=0.2)\n",
    "print(X_train_1.shape)\n",
    "print(X_test_1.shape)"
   ]
  },
  {
   "cell_type": "markdown",
   "metadata": {},
   "source": [
    "## Applying Model\n"
   ]
  },
  {
   "cell_type": "markdown",
   "metadata": {},
   "source": [
    "### Decision Tree Classifier with Smoking Status"
   ]
  },
  {
   "cell_type": "code",
   "execution_count": 149,
   "metadata": {},
   "outputs": [
    {
     "name": "stdout",
     "output_type": "stream",
     "text": [
      "              precision    recall  f1-score   support\n",
      "\n",
      "           0       1.00      0.98      0.99      5792\n",
      "           1       0.98      1.00      0.99      5996\n",
      "\n",
      "   micro avg       0.99      0.99      0.99     11788\n",
      "   macro avg       0.99      0.99      0.99     11788\n",
      "weighted avg       0.99      0.99      0.99     11788\n",
      "\n",
      "0.989141499830336\n",
      "[[5664  128]\n",
      " [   0 5996]]\n",
      "precision =  0.9790986283474853 \n",
      " recall =  1.0\n"
     ]
    },
    {
     "data": {
      "image/png": "[encoded data removed]",
      "text/plain": [
       "<Figure size 432x288 with 1 Axes>"
      ]
     },
     "metadata": {},
     "output_type": "display_data"
    },
    {
     "name": "stdout",
     "output_type": "stream",
     "text": [
      "                   Importance\n",
      "age                  0.375919\n",
      "avg_glucose_level    0.195619\n",
      "bmi                  0.150303\n",
      "id                   0.145957\n",
      "smoking_status       0.029874\n",
      "work_type            0.027173\n",
      "heart_disease        0.017739\n",
      "hypertension         0.017529\n",
      "gender               0.016547\n",
      "Residence_type       0.013373\n",
      "ever_married         0.009967\n"
     ]
    }
   ],
   "source": [
    "dtree = DecisionTreeClassifier()\n",
    "dtree.fit(X_train,y_train)\n",
    "\n",
    "pred = dtree.predict(X_test)\n",
    "print(classification_report(y_test,pred))\n",
    "print (accuracy_score(y_test,pred))\n",
    "print (confusion_matrix(y_test,pred))\n",
    "\n",
    "precision = precision_score(y_test,pred)\n",
    "recall = recall_score(y_test,pred)\n",
    "print( 'precision = ', precision, '\\n', 'recall = ', recall)\n",
    "\n",
    "y_pred_proba = dtree.predict_proba(X_test)[::,1]\n",
    "fpr, tpr, _ = roc_curve(y_test,  y_pred_proba)\n",
    "auc = roc_auc_score(y_test, y_pred_proba)\n",
    "plt.plot(fpr,tpr,label=\"data 1, auc=\"+str(auc))\n",
    "plt.legend(loc=4)\n",
    "plt.show()\n",
    "\n",
    "impFeatures = pd.DataFrame(dtree.feature_importances_ ,index=train_data_with_smoke.loc[:,train_data_with_smoke.columns!='stroke'].columns,columns=['Importance']).sort_values(by='Importance',ascending=False)\n",
    "print (impFeatures)"
   ]
  },
  {
   "cell_type": "markdown",
   "metadata": {},
   "source": [
    "### Decision Tree Classifier without Smoking Status"
   ]
  },
  {
   "cell_type": "code",
   "execution_count": 150,
   "metadata": {},
   "outputs": [
    {
     "name": "stdout",
     "output_type": "stream",
     "text": [
      "              precision    recall  f1-score   support\n",
      "\n",
      "           0       1.00      0.99      1.00      2670\n",
      "           1       0.99      1.00      1.00      2589\n",
      "\n",
      "   micro avg       1.00      1.00      1.00      5259\n",
      "   macro avg       1.00      1.00      1.00      5259\n",
      "weighted avg       1.00      1.00      1.00      5259\n",
      "\n",
      "Accuracy: 0.9952462445331812\n",
      "COnfusion Matrix: \n",
      " [[2645   25]\n",
      " [   0 2589]]\n",
      "precision =  0.9904361132364193 \n",
      " recall =  1.0\n"
     ]
    },
    {
     "data": {
      "image/png": "[encoded data removed]",
      "text/plain": [
       "<Figure size 432x288 with 1 Axes>"
      ]
     },
     "metadata": {},
     "output_type": "display_data"
    },
    {
     "name": "stdout",
     "output_type": "stream",
     "text": [
      "                   Importance\n",
      "age                  0.556069\n",
      "bmi                  0.163705\n",
      "avg_glucose_level    0.116932\n",
      "id                   0.093338\n",
      "work_type            0.023393\n",
      "Residence_type       0.016972\n",
      "gender               0.010763\n",
      "heart_disease        0.007905\n",
      "ever_married         0.006864\n",
      "hypertension         0.004060\n"
     ]
    }
   ],
   "source": [
    "dtree_nosmoke = DecisionTreeClassifier()\n",
    "dtree_nosmoke.fit(X_train_1,y_train_1)\n",
    "\n",
    "pred = dtree_nosmoke.predict(X_test_1)\n",
    "print(classification_report(y_test_1,pred))\n",
    "print ('Accuracy: {}'.format(accuracy_score(y_test_1,pred)))\n",
    "print ('COnfusion Matrix: \\n {}'.format(confusion_matrix(y_test_1,pred)))\n",
    "\n",
    "precision = precision_score(y_test_1,pred)\n",
    "recall = recall_score(y_test_1,pred)\n",
    "print( 'precision = ', precision, '\\n', 'recall = ', recall)\n",
    "\n",
    "y_pred_proba = dtree_nosmoke.predict_proba(X_test_1)[::,1]\n",
    "fpr, tpr, _ = roc_curve(y_test_1,  y_pred_proba)\n",
    "auc = roc_auc_score(y_test_1, y_pred_proba)\n",
    "plt.plot(fpr,tpr,label=\"data 1, auc=\"+str(auc))\n",
    "plt.legend(loc=4)\n",
    "plt.show()\n",
    "\n",
    "impFeatures = pd.DataFrame(dtree_nosmoke.feature_importances_ ,index=train_data_without_smoke.loc[:,train_data_without_smoke.columns!='stroke'].columns,columns=['Importance']).sort_values(by='Importance',ascending=False)\n",
    "print (impFeatures)"
   ]
  },
  {
   "cell_type": "markdown",
   "metadata": {},
   "source": [
    "### Logistic Regression Classifier with Smoking Status"
   ]
  },
  {
   "cell_type": "code",
   "execution_count": 151,
   "metadata": {},
   "outputs": [
    {
     "name": "stderr",
     "output_type": "stream",
     "text": [
      "/Users/sdidwani/anaconda3/lib/python3.6/site-packages/sklearn/linear_model/logistic.py:433: FutureWarning: Default solver will be changed to 'lbfgs' in 0.22. Specify a solver to silence this warning.\n",
      "  FutureWarning)\n"
     ]
    },
    {
     "name": "stdout",
     "output_type": "stream",
     "text": [
      "              precision    recall  f1-score   support\n",
      "\n",
      "           0       0.77      0.73      0.75      5792\n",
      "           1       0.75      0.79      0.77      5996\n",
      "\n",
      "   micro avg       0.76      0.76      0.76     11788\n",
      "   macro avg       0.76      0.76      0.76     11788\n",
      "weighted avg       0.76      0.76      0.76     11788\n",
      "\n",
      "0.7609433322022395\n",
      "[[4235 1557]\n",
      " [1261 4735]]\n",
      "precision =  0.7525429116338207 \n",
      " recall =  0.7896931287525016\n"
     ]
    },
    {
     "data": {
      "image/png": "[encoded data removed]",
      "text/plain": [
       "<Figure size 432x288 with 1 Axes>"
      ]
     },
     "metadata": {},
     "output_type": "display_data"
    },
    {
     "name": "stdout",
     "output_type": "stream",
     "text": [
      "                   Importance\n",
      "heart_disease        0.718594\n",
      "hypertension         0.414052\n",
      "Residence_type       0.075281\n",
      "age                  0.071772\n",
      "smoking_status       0.047562\n",
      "gender               0.044885\n",
      "work_type            0.025609\n",
      "avg_glucose_level    0.003958\n",
      "id                   0.000002\n",
      "bmi                 -0.009998\n",
      "ever_married        -0.127429\n"
     ]
    }
   ],
   "source": [
    "log = LogisticRegression(penalty='l2', C=0.1)\n",
    "log.fit(X_train,y_train)\n",
    "\n",
    "pred = log.predict(X_test)\n",
    "print(classification_report(y_test,pred))\n",
    "print (accuracy_score(y_test,pred))\n",
    "print (confusion_matrix(y_test,pred))\n",
    "\n",
    "precision = precision_score(y_test,pred)\n",
    "recall = recall_score(y_test,pred)\n",
    "print( 'precision = ', precision, '\\n', 'recall = ', recall)\n",
    "\n",
    "y_pred_proba = log.predict_proba(X_test)[::,1]\n",
    "fpr, tpr, _ = roc_curve(y_test,  y_pred_proba)\n",
    "auc = roc_auc_score(y_test, y_pred_proba)\n",
    "plt.plot(fpr,tpr,label=\"data 1, auc=\"+str(auc))\n",
    "plt.legend(loc=4)\n",
    "plt.show()\n",
    "impFeatures = pd.DataFrame(log.coef_[0] ,index=train_data_with_smoke.loc[:,train_data_with_smoke.columns!='stroke'].columns,columns=['Importance']).sort_values(by='Importance',ascending=False)\n",
    "print (impFeatures)"
   ]
  },
  {
   "cell_type": "markdown",
   "metadata": {},
   "source": [
    "### Logistic Regression Classifier without Smoking Status"
   ]
  },
  {
   "cell_type": "code",
   "execution_count": 152,
   "metadata": {},
   "outputs": [
    {
     "name": "stderr",
     "output_type": "stream",
     "text": [
      "/Users/sdidwani/anaconda3/lib/python3.6/site-packages/sklearn/linear_model/logistic.py:433: FutureWarning: Default solver will be changed to 'lbfgs' in 0.22. Specify a solver to silence this warning.\n",
      "  FutureWarning)\n"
     ]
    },
    {
     "name": "stdout",
     "output_type": "stream",
     "text": [
      "              precision    recall  f1-score   support\n",
      "\n",
      "           0       0.89      0.80      0.84      2670\n",
      "           1       0.81      0.90      0.85      2589\n",
      "\n",
      "   micro avg       0.85      0.85      0.85      5259\n",
      "   macro avg       0.85      0.85      0.85      5259\n",
      "weighted avg       0.85      0.85      0.85      5259\n",
      "\n",
      "0.8469290739684351\n",
      "[[2127  543]\n",
      " [ 262 2327]]\n",
      "precision =  0.810801393728223 \n",
      " recall =  0.8988026264967168\n"
     ]
    },
    {
     "data": {
      "image/png": "[encoded data removed]",
      "text/plain": [
       "<Figure size 432x288 with 1 Axes>"
      ]
     },
     "metadata": {},
     "output_type": "display_data"
    },
    {
     "name": "stdout",
     "output_type": "stream",
     "text": [
      "                   Importance\n",
      "heart_disease        0.780711\n",
      "gender               0.339921\n",
      "Residence_type       0.093153\n",
      "age                  0.071585\n",
      "ever_married         0.061542\n",
      "work_type            0.027197\n",
      "avg_glucose_level    0.002963\n",
      "id                   0.000002\n",
      "bmi                 -0.007916\n",
      "hypertension        -0.066267\n"
     ]
    }
   ],
   "source": [
    "logg = LogisticRegression(penalty='l2', C=0.1)\n",
    "logg.fit(X_train_1,y_train_1)\n",
    "\n",
    "pred = logg.predict(X_test_1)\n",
    "print(classification_report(y_test_1,pred))\n",
    "print (accuracy_score(y_test_1,pred))\n",
    "print (confusion_matrix(y_test_1,pred))\n",
    "\n",
    "precision = precision_score(y_test_1,pred)\n",
    "recall = recall_score(y_test_1,pred)\n",
    "print( 'precision = ', precision, '\\n', 'recall = ', recall)\n",
    "\n",
    "y_pred_proba = logg.predict_proba(X_test_1)[::,1]\n",
    "fpr, tpr, _ = roc_curve(y_test_1,  y_pred_proba)\n",
    "auc = roc_auc_score(y_test_1, y_pred_proba)\n",
    "plt.plot(fpr,tpr,label=\"data 1, auc=\"+str(auc))\n",
    "plt.legend(loc=4)\n",
    "plt.show()\n",
    "\n",
    "impFeatures = pd.DataFrame(logg.coef_[0] ,index=train_data_without_smoke.loc[:,train_data_without_smoke.columns!='stroke'].columns,columns=['Importance']).sort_values(by='Importance',ascending=False)\n",
    "print (impFeatures)"
   ]
  },
  {
   "cell_type": "markdown",
   "metadata": {},
   "source": [
    "### Random Forest Classifier with Smoking Status"
   ]
  },
  {
   "cell_type": "code",
   "execution_count": 153,
   "metadata": {},
   "outputs": [
    {
     "name": "stdout",
     "output_type": "stream",
     "text": [
      "              precision    recall  f1-score   support\n",
      "\n",
      "           0       1.00      1.00      1.00      2670\n",
      "           1       1.00      1.00      1.00      2589\n",
      "\n",
      "   micro avg       1.00      1.00      1.00      5259\n",
      "   macro avg       1.00      1.00      1.00      5259\n",
      "weighted avg       1.00      1.00      1.00      5259\n",
      "\n",
      "0.9996196995626545\n",
      "[[2668    2]\n",
      " [   0 2589]]\n",
      "precision =  0.9992280972597453 \n",
      " recall =  1.0\n"
     ]
    },
    {
     "data": {
      "image/png": "[encoded data removed]",
      "text/plain": [
       "<Figure size 432x288 with 1 Axes>"
      ]
     },
     "metadata": {},
     "output_type": "display_data"
    },
    {
     "name": "stdout",
     "output_type": "stream",
     "text": [
      "                   Importance\n",
      "age                  0.365044\n",
      "bmi                  0.170507\n",
      "avg_glucose_level    0.123519\n",
      "id                   0.102313\n",
      "work_type            0.091627\n",
      "ever_married         0.076915\n",
      "heart_disease        0.027374\n",
      "gender               0.017413\n",
      "Residence_type       0.012986\n",
      "hypertension         0.012303\n"
     ]
    }
   ],
   "source": [
    "ran = RandomForestClassifier(n_estimators=50,random_state=0)\n",
    "ran.fit(X_train_1,y_train_1)\n",
    "\n",
    "pred = ran.predict(X_test_1)\n",
    "print(classification_report(y_test_1,pred))\n",
    "print (accuracy_score(y_test_1,pred))\n",
    "print (confusion_matrix(y_test_1,pred))\n",
    "\n",
    "precision = precision_score(y_test_1,pred)\n",
    "recall = recall_score(y_test_1,pred)\n",
    "print( 'precision = ', precision, '\\n', 'recall = ', recall)\n",
    "\n",
    "y_pred_proba = ran.predict_proba(X_test_1)[::,1]\n",
    "fpr, tpr, _ = roc_curve(y_test_1,  y_pred_proba)\n",
    "auc = roc_auc_score(y_test_1, y_pred_proba)\n",
    "plt.plot(fpr,tpr,label=\"data 1, auc=\"+str(auc))\n",
    "plt.legend(loc=4)\n",
    "plt.show()\n",
    "\n",
    "\n",
    "impFeatures = pd.DataFrame((ran.feature_importances_) ,index=train_data_without_smoke.loc[:,train_data_without_smoke.columns!='stroke'].columns,columns=['Importance']).sort_values(by='Importance',ascending=False)\n",
    "print (impFeatures)"
   ]
  },
  {
   "cell_type": "markdown",
   "metadata": {},
   "source": [
    "### Feature Importance with random Forest"
   ]
  },
  {
   "cell_type": "markdown",
   "metadata": {},
   "source": [
    "#### So we can see that Age, hypertension, heart disease, Residence type, Avg Glucose level, BMI and Smoking status comes as significate variable here. A few of them are intuitive as well, but Gender, Marriage status and Work Status are some which we can ignore."
   ]
  },
  {
   "cell_type": "code",
   "execution_count": 154,
   "metadata": {},
   "outputs": [
    {
     "data": {
      "text/plain": [
       "<matplotlib.axes._subplots.AxesSubplot at 0x1a188aae48>"
      ]
     },
     "execution_count": 154,
     "metadata": {},
     "output_type": "execute_result"
    },
    {
     "data": {
      "image/png": "[encoded data removed]",
      "text/plain": [
       "<Figure size 432x288 with 1 Axes>"
      ]
     },
     "metadata": {},
     "output_type": "display_data"
    }
   ],
   "source": [
    "feat_importances = pd.Series(ran.feature_importances_, index=train_data_without_smoke.loc[:,train_data_without_smoke.columns!='stroke'].columns)\n",
    "feat_importances.plot(kind='barh')"
   ]
  },
  {
   "cell_type": "code",
   "execution_count": 155,
   "metadata": {},
   "outputs": [],
   "source": [
    "test_data[\"bmi\"]=test_data[\"bmi\"].fillna(test_data[\"bmi\"].mean())"
   ]
  },
  {
   "cell_type": "code",
   "execution_count": 156,
   "metadata": {},
   "outputs": [],
   "source": [
    "test_data.drop(axis=1,columns=['smoking_status'],inplace=True)"
   ]
  },
  {
   "cell_type": "code",
   "execution_count": 157,
   "metadata": {},
   "outputs": [],
   "source": [
    "label = LabelEncoder()\n",
    "test_data['gender'] = label.fit_transform(test_data['gender'])\n",
    "test_data['ever_married'] = label.fit_transform(test_data['ever_married'])\n",
    "test_data['work_type']= label.fit_transform(test_data['work_type'])\n",
    "test_data['Residence_type']= label.fit_transform(test_data['Residence_type'])\n",
    "pred = ran.predict(test_data)"
   ]
  },
  {
   "cell_type": "code",
   "execution_count": 158,
   "metadata": {},
   "outputs": [],
   "source": [
    "prediction = pd.DataFrame(pred,columns=['Pred'])"
   ]
  },
  {
   "cell_type": "markdown",
   "metadata": {},
   "source": [
    "### Predicted Value. Model Predicted 10 strokes for the test data"
   ]
  },
  {
   "cell_type": "code",
   "execution_count": 159,
   "metadata": {},
   "outputs": [
    {
     "data": {
      "text/plain": [
       "0    18584\n",
       "1       17\n",
       "Name: Pred, dtype: int64"
      ]
     },
     "execution_count": 159,
     "metadata": {},
     "output_type": "execute_result"
    }
   ],
   "source": [
    "prediction['Pred'].value_counts()"
   ]
  },
  {
   "cell_type": "markdown",
   "metadata": {},
   "source": [
    "### Conclusion\n",
    "Overall we used logistic regression to forecast weather a patient can have stroke or not. We has to deal with imbalanced data which is common in such healthcare problems. For improving the model we could try out other ways of dealing with imbalanced data like SMOTE.\n",
    "\n",
    "Also we could have dealt with missing data of smoke status in other ways as well for e.g. Age less than 10 or 15 years patients could have been tagged as never_smoked etc.\n",
    "\n",
    "Finally just one thought on why the 2 models were so different, one of the reasons could be the age distribution of the 2 data set. Median age of Smoke dataset was 48 while that of Non smoke dataset was 21. These are some ways Logistic model could have been improved."
   ]
  }
 ],
 "metadata": {
  "kernelspec": {
   "display_name": "Python 3",
   "language": "python",
   "name": "python3"
  },
  "language_info": {
   "codemirror_mode": {
    "name": "ipython",
    "version": 3
   },
   "file_extension": ".py",
   "mimetype": "text/x-python",
   "name": "python",
   "nbconvert_exporter": "python",
   "pygments_lexer": "ipython3",
   "version": "3.6.5"
  }
 },
 "nbformat": 4,
 "nbformat_minor": 2
}
